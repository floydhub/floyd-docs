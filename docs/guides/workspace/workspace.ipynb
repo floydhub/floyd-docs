{
 "cells": [
  {
   "cell_type": "markdown",
   "metadata": {},
   "source": [
    "# Workspace\n",
    "\n",
    "Workspace is an interactive environment ([Jupyter Lab](https://blog.jupyter.org/jupyterlab-is-ready-for-users-5a6f039b8906)) for developing and running code. You can run Jupyter notebooks, Python scripts and much more. All the files and data in your workspace will be preserved for you, across restarts. You can think of it as your persistent, on-demand machine on the cloud.\n",
    "\n",
    "*Beta: Workspace is currently in beta and under active development. If you have feedback or feature requests, please let us know using the chat bubble on bottom right.*\n",
    "\n",
    "![Workspace UI](https://docs.floydhub.com/img/workspace/workspace_ui.png)"
   ]
  },
  {
   "cell_type": "markdown",
   "metadata": {},
   "source": [
    "<br><br>\n",
    "\n",
    "## Basics\n",
    "\n",
    "*Currently, you can create only one workspace in a project. You can delete the existing workspace to create a new one.*\n",
    "\n",
    "### Stopping a workspace\n",
    "\n",
    "You can see the current status of your workspace in the top bar. If you want to stop this workspace, click the *Shutdown* button. All your files and directories in the current directory (`/floyd/code`) will be saved and persisted.\n",
    "\n",
    "![image](https://dzwonsemrish7.cloudfront.net/items/0t36131c3j2d0s130W22/Image%202018-05-04%20at%203.04.20%20PM.png)\n",
    "\n",
    "*Note: Save all your notebooks and files before shutting down the workspace. All running notebooks and scripts will be stopped during Shutdown.*\n",
    "\n",
    "### Billing \n",
    "\n",
    "**Important**: You will be charged for the entire duration that your workspace is *running*. Please make sure to shutdown the workspace if you are no longer actively using it. You can [purchase powerups](https://www.floydhub.com/settings/powerups) if you are low on runtime to start a workspace.\n",
    "\n",
    "### Resuming a workspace\n",
    "\n",
    "You can resume working on a stopped workspace by clicking the *Resume* button in the project page. This will restore the workspace to its previous state.\n",
    "\n",
    "![image](https://dzwonsemrish7.cloudfront.net/items/05402V453g440K0S221g/Image%202018-06-09%20at%201.12.12%20PM.png)"
   ]
  },
  {
   "cell_type": "markdown",
   "metadata": {},
   "source": [
    "<br><br>\n",
    "\n",
    "## Code\n",
    "\n",
    "Your workspace is located at `/floyd/code` on the filesystem. \n",
    "\n",
    "**IMPORTANT - Store your files in /floyd/code**: FloydHub only persists files that are stored under `/floyd/code`. Make sure you store all the files you want persisted here. Files stored in any other location will **not** be saved when your workspace is shutdown.\n",
    "\n",
    "### Uploading code from local computer\n",
    "\n",
    "You can upload your code and other files from your local machine using the upload button in the File Viewer panel (on the left).\n",
    "\n",
    "![image](https://docs.floydhub.com/img/workspace/upload_code.png)\n",
    "\n",
    "*Make sure you upload your code into the `/floyd/code` directory.*\n",
    "\n",
    "### Downloading code from Github\n",
    "\n",
    "If your code is on Github (or any online repository), you can also clone your repository using the `git clone` command.\n",
    "\n",
    "Using the Terminal:\n",
    "\n",
    "![image](https://docs.floydhub.com/img/workspace/git_clone_terminal.png)\n",
    "\n",
    "Or, via your Jupyter Notebook cell:\n",
    "\n",
    "![image](https://docs.floydhub.com/img/workspace/git_clone.png)\n",
    "\n",
    "You can now start working on your project. Open and run any Notebook or Python script. You can also edit code files and run them using the terminal."
   ]
  },
  {
   "cell_type": "markdown",
   "metadata": {},
   "source": [
    "<br><br>\n",
    "## Using Terminal\n",
    "\n",
    "You can open a Bash terminal (console) inside your workspace to run code, debug or inspect your files. To open a new terminal, click the *+* button in the File Viewer panel (on the left) and click *terminal* icon.\n",
    "\n",
    "![start terminal](https://dzwonsemrish7.cloudfront.net/items/3Z3A1A392A0T1L0L0840/terminal_icon.png)"
   ]
  },
  {
   "cell_type": "markdown",
   "metadata": {},
   "source": [
    "<br>\n",
    "## Data\n",
    "\n",
    "### Downloading data from internet\n",
    "\n",
    "If your data is available on the internet, you can also download it directly into your workspace using the Terminal.\n",
    "\n",
    "```\n",
    "# Ensure you're in your workspace directory\n",
    "cd /floyd/code\n",
    "\n",
    "wget http://yann.lecun.com/exdb/mnist/train-images-idx3-ubyte.gz\n",
    "```\n",
    "\n",
    "### Attaching FloydHub datasets\n",
    "\n",
    "FloydHub provides an easy way to manage large datasets that you can use across projects. Instead of downloading your data everytime you start a workspace, you can [upload your data as a FloydHub dataset](https://docs.floydhub.com/guides/create_and_upload_dataset/). \n",
    "\n",
    "You can attach FloydHub datasets to your workspace using the right panel. You need to specify the name of the dataset and the directory where you want to attach it. Once the data mounting finishes, you can start using the files in your code.\n",
    "\n",
    "Example: Attaching the MNIST dataset [https://www.floydhub.com/mckay/datasets/mnist/1](https://www.floydhub.com/mckay/datasets/mnist/1)\n",
    "\n",
    "![mount data](https://dzwonsemrish7.cloudfront.net/items/172o2P0Z1y0J112K1a1e/Screen%20Recording%202018-06-09%20at%2001.16%20PM.gif)\n",
    "\n",
    "Once you attach a dataset, it will be available even when you stop and resume the workspace.\n",
    "\n",
    "*Tip:* You can hide the panel on the right by clicking the *>>* arrow on the panel.\n",
    "\n",
    "#### Viewing attached datasets\n",
    "\n",
    "All FloydHub datasets are attached under `/floyd/data`. You can view your attached datasets using the File Viewer panel. Make sure to click the *Home* icon and select the `data` dirctory.\n",
    "\n",
    "![View attached dataset](https://docs.floydhub.com/img/workspace/view_attached_datasets.png)\n",
    "\n",
    "You can also view them using the Terminal:\n",
    "\n",
    "```bash\n",
    "ls /floyd/data\n",
    "```"
   ]
  },
  {
   "cell_type": "markdown",
   "metadata": {},
   "source": [
    "<br><br>\n",
    "## Switching between CPU and GPU\n",
    "\n",
    "You can easily switch the instance type of your workspace using the *Restart* button. \n",
    "\n",
    "For example: if you are working on a Jupyter notebook in a CPU instance, you can switch to a GPU instance to speed up your training. To restart your workspace click the \"Restart\" button and select the new instance you want to use. \n",
    "\n",
    "![restart workspace](https://dzwonsemrish7.cloudfront.net/items/0U3Q1O2Q0A192x3H0P2q/Screen%20Recording%202018-05-04%20at%2003.40%20PM.gif)\n",
    "\n",
    "You can [purchase powerups](https://www.floydhub.com/settings/powerups) if you are low on runtime to start a workspace.\n",
    "\n",
    "*Save your files before shutdown*: Save all your notebooks and files before restarting the workspace. All running notebooks and scripts will be stopped during Restart."
   ]
  },
  {
   "cell_type": "markdown",
   "metadata": {},
   "source": [
    "<br><br>\n",
    "## Performance metrics\n",
    "\n",
    "You can view the current load on the machine from the system metrics panel in the bottom bar. It shows the percentage load for various systems like CPU, RAM and GPU utilization.\n",
    "\n",
    "![metrics and insights](https://dzwonsemrish7.cloudfront.net/items/141p0O1K2L1H2t0f1U0q/usage_alert.gif)\n",
    "\n",
    "### Insights\n",
    "\n",
    "Sometimes you will see a notification icon next to the metrics. To view the insight click on the icon to learn more."
   ]
  },
  {
   "cell_type": "markdown",
   "metadata": {},
   "source": [
    "## Idle Workspaces\n",
    "\n",
    "When your workspace is idle and not actively used for some duration of time, an alert will pop up on your screen notifying that FloydHub is planning to shutdown the workspace to save resources and your powerups. You can dismiss the shutdown option and continue working or change the timeout duration in the settings panel on the right.\n",
    "\n",
    "![idle notification](https://dzwonsemrish7.cloudfront.net/items/3K1h371r12471T1P1k1d/Image%202018-06-09%20at%201.31.11%20PM.png)"
   ]
  }
 ],
 "metadata": {
  "kernelspec": {
   "display_name": "Python 3",
   "language": "python",
   "name": "python3"
  },
  "language_info": {
   "codemirror_mode": {
    "name": "ipython",
    "version": 3
   },
   "file_extension": ".py",
   "mimetype": "text/x-python",
   "name": "python",
   "nbconvert_exporter": "python",
   "pygments_lexer": "ipython3",
   "version": "3.6.5"
  }
 },
 "nbformat": 4,
 "nbformat_minor": 2
}

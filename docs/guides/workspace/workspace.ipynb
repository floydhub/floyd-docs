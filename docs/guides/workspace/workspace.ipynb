{
 "cells": [
  {
   "cell_type": "markdown",
   "metadata": {},
   "source": [
    "# Workspace\n",
    "\n",
    "Workspace is an interactive environment (Jupyter Lab) for developing and running code. You can run Jupyter notebooks and Python scripts in this interface. Use the file list on the left to open notebook files.\n",
    "\n",
    "*Beta: Note that the workspace feature is currently in beta. We are planning to add more features to the workspace. If you have any feedback on what you like to see use the chat bubble at the bottom right to send us your feedback* "
   ]
  },
  {
   "cell_type": "markdown",
   "metadata": {},
   "source": [
    "## Creating Workspace\n",
    "\n",
    "To create a new workspace click the *Create Workspace* button in the project page. Choose the environment you need and the machine you want to use.\n",
    "\n",
    "![create workspace](https://dzwonsemrish7.cloudfront.net/items/1k2S1l273L2A1o1F1e04/Image%202018-05-05%20at%202.34.38%20PM.png)\n",
    "\n",
    "*Note: Currently you can create only one workspace in a project. You can delete the existing workspace to create a new workspace*."
   ]
  },
  {
   "cell_type": "markdown",
   "metadata": {},
   "source": [
    "## Stopping and Resuming workspace\n",
    "\n",
    "You can see the current status of this workspace in the top bar. If you want to stop this workspace, click the Shutdown button. All your files and directories in the current `code` directory will be saved automatically.\n",
    "\n",
    "![image](https://dzwonsemrish7.cloudfront.net/items/0t36131c3j2d0s130W22/Image%202018-05-04%20at%203.04.20%20PM.png)\n",
    "\n",
    "*Important*: Save all your notebooks and files before shutting down the workspace. All running notebooks and scripts will be stopped during Shutdown.\n",
    "\n",
    "Later when you want to resume the workspace click the *Continue* button in the project page.\n",
    "\n",
    "![image](https://dzwonsemrish7.cloudfront.net/items/1S1A2j0W3z1E0t0A0E1F/%5Bb53674349b29b7d68696f30142a8345f%5D_Image+2018-05-04+at+3.09.45+PM.png)\n",
    "\n",
    "#### Billing\n",
    "\n",
    "You will be charged for the entire duration when your workspace is *running*. So make sure to shutdown the workspace if you no longer need it. You can [purchase powerups](https://www.floydhub.com/settings/powerups) if you are low on runtime to start a workspace."
   ]
  },
  {
   "cell_type": "markdown",
   "metadata": {},
   "source": [
    "## Uploading code\n",
    "\n",
    "You can upload jupyter notebook files using the upload button in the file viewer (on the left).\n",
    "\n",
    "![image](https://dzwonsemrish7.cloudfront.net/items/2I042h451j3B160N3d0Y/%5B55ae1f00053d391a4282359287ae6cb6%5D_Image+2018-05-04+at+3.13.51+PM.png)\n",
    "\n",
    "You can also clone your respository from GitHub:\n",
    "\n",
    "`git clone https://github.com/floydhub/fast-style-transfer`\n",
    "\n",
    "You can now start working on your project. Open any notebook file and start executing them. You can edit code files and run them using the terminal."
   ]
  },
  {
   "cell_type": "markdown",
   "metadata": {},
   "source": [
    "## Attaching FloydHub Datasets\n",
    "\n",
    "FloydHub provides you an easy way to manage large datasets that you will use across projects. Instead of downloading your data everytime you start a workspace, you can upload your data as a [dataset](https://docs.floydhub.com/guides/data/mounting_data/). \n",
    "\n",
    "You can now mount the data using the panel on the right. You need to specify the name of the dataset and the directory where you want to mount it. Once the data mount finishes, you can then start using the files in your code.\n",
    "\n",
    "![mount data](https://dzwonsemrish7.cloudfront.net/items/1U0X1m400U0z2L3f002J/Screen%20Recording%202018-05-05%20at%2002.19%20PM.gif)\n",
    "\n",
    "Once you mount a dataset, it will be available even when you stop and resume the workspace. Currently there is no option to remove a mounted dataset.\n",
    "\n",
    "*Tip:* You can hide the panel on the right by clicking the *>>* arrow on the panel."
   ]
  },
  {
   "cell_type": "markdown",
   "metadata": {},
   "source": [
    "## Using Terminal\n",
    "\n",
    "If you want access to a terminal to run code, select the *+* button in the fileviewer on the left and click *terminal* icon.\n",
    "\n",
    "![start terminal](https://dzwonsemrish7.cloudfront.net/items/3Z3A1A392A0T1L0L0840/terminal_icon.png)\n",
    "\n",
    "*Tip*: If you terminal freezes due to inactivity, right click and select *Refresh Terminal*\n",
    "\n",
    "![refresh terminal](https://dzwonsemrish7.cloudfront.net/items/1D231V0h2f0W0R3c2o0n/Screen%20Shot%202018-05-05%20at%202.05.26%20PM.png)"
   ]
  },
  {
   "cell_type": "markdown",
   "metadata": {},
   "source": [
    "## Change instance\n",
    "\n",
    "You can easily switch the instance type of the workspace using the *Restart* function. For example: if you are working on a Jupyter notebook in a CPU instance, you can switch to a GPU instance to speed up your training. To restart your workspace click the \"Restart\" button and select the new instance you want to use.\n",
    "\n",
    "![restart workspace](https://dzwonsemrish7.cloudfront.net/items/0U3Q1O2Q0A192x3H0P2q/Screen%20Recording%202018-05-04%20at%2003.40%20PM.gif)\n",
    "\n",
    "*Important: Save all your notebooks and files before restarting the workspace. All running notebooks and scripts will be stopped during Restart.*\n",
    "\n",
    "Also ensure that you have the Powerup for the new instance type you are using."
   ]
  }
 ],
 "metadata": {
  "kernelspec": {
   "display_name": "Python 3",
   "language": "python",
   "name": "python3"
  },
  "language_info": {
   "codemirror_mode": {
    "name": "ipython",
    "version": 3
   },
   "file_extension": ".py",
   "mimetype": "text/x-python",
   "name": "python",
   "nbconvert_exporter": "python",
   "pygments_lexer": "ipython3",
   "version": "3.6.5"
  }
 },
 "nbformat": 4,
 "nbformat_minor": 2
}
